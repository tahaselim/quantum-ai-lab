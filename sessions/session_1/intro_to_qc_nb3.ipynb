{
 "cells": [
  {
   "cell_type": "markdown",
   "metadata": {},
   "source": [
    "#  Intro to Quantum Computing with Qiskit \n",
    "### Tutorial 2 + the project: Basics of Quantum Circuits\n",
    "\n",
    "|||\n",
    "|-|-|\n",
    "|**Author:** |Taha Selim|\n",
    "|**Tutrial 2:** |**Version 0** <br/>*Basics of Quantum Circuits*|\n",
    "|**License:** |MIT License / Taha Selim|\n",
    "|**Qiskit:** |1.0|\n"
   ]
  },
  {
   "cell_type": "markdown",
   "metadata": {},
   "source": [
    "# Quantum Teleportation Protocol \n",
    "\n",
    "The main goal of this notebook is to explain the quantum teleportation protocol. This protocol is one of the most important quantum algorithms, and it is the foundation of many other quantum algorithms.\n",
    "\n",
    "Quantum teleportation is a process by which a quantum state can be transmitted from one location to another, with the help of two classical bits and a Bell pair of entangled qubits. The quantum state to be teleported is destroyed in the process, and it is reconstituted at the receiving location.\n",
    "\n",
    "The protocol consists of the following steps:\n",
    "\n",
    "1. Alice and Bob share an entangled pair of qubits.\n",
    "2. Alice applies a CNOT gate and a Hadamard gate to her qubit, and then measures both qubits.\n",
    "3. Alice sends the measurement results to Bob using two classical bits.\n",
    "4. Bob applies some gates to his qubit depending on the measurement results.\n",
    "\n",
    "The quantum teleportation protocol is a fundamental building block for many quantum algorithms, and it is a key component of quantum error correction codes.\n",
    "\n",
    "In the following sections, we will explain the protocol in detail and provide a simple implementation using Qiskit."
   ]
  },
  {
   "cell_type": "markdown",
   "metadata": {},
   "source": [
    "### Section 1: creating the entangled pair\n",
    "\n",
    "We will create Bell pair of qubits using the following circuit:\n",
    "    \n",
    "    ``` \n",
    "\n",
    "    q_0: |0> --H--@\n",
    "                  |\n",
    "    q_1: |0> -----X--\n",
    "\n",
    "    ``` \n",
    "\n",
    "\n",
    "    To exploit full power of quantum teleportation, we need to create a Bell pair of qubits. We will create the four Bell states using the four possible combinations of the states of the two qubits. The Bell states are:\n",
    "\n",
    "    $$|B_{00}> = \\frac{1}{\\sqrt{2}} (|00> + |11>)$$\n",
    "\n",
    "    $|B_{01}> = \\frac{1}{\\sqrt{2}} (|00> - |11>)$\n",
    "\n",
    "    $|B_{10}> = \\frac{1}{\\sqrt{2}} (|01> + |10>)$\n",
    "\n",
    "    $|B_{11}> = \\frac{1}{\\sqrt{2}} (|01> - |10>)$\n",
    "    "
   ]
  },
  {
   "cell_type": "code",
   "metadata": {
    "ExecuteTime": {
     "end_time": "2025-02-24T20:12:09.387124Z",
     "start_time": "2025-02-24T20:12:09.382104Z"
    }
   },
   "source": [
    "# Import important libraries\n",
    "from qiskit import QuantumRegister, ClassicalRegister, QuantumCircuit\n",
    "from qiskit.quantum_info import Statevector\n",
    "from qiskit.visualization import plot_state_qsphere\n",
    "from qiskit.providers.basic_provider import BasicSimulator \n",
    "from qiskit.primitives import Sampler\n",
    "from qiskit.visualization import plot_histogram\n",
    "\n",
    "import numpy as np\n"
   ],
   "outputs": [],
   "execution_count": 49
  },
  {
   "cell_type": "markdown",
   "metadata": {},
   "source": [
    "#### Task 1: \n",
    "\n",
    "Create Bell state using two qubits and entangle them with applying Hadamard gate to the first qubit and CNOT gate, with the first qubit as control and the second qubit as target. \n",
    "\n",
    "Check the statevector of the circuit to verify that the qubits are in the Bell state.\n"
   ]
  },
  {
   "cell_type": "code",
   "metadata": {
    "ExecuteTime": {
     "end_time": "2025-02-24T20:12:09.453935Z",
     "start_time": "2025-02-24T20:12:09.392489Z"
    }
   },
   "source": [
    "# Create a quantum register with two qubits\n",
    "q = QuantumRegister(2,'q')\n",
    "c = ClassicalRegister(2,'c')\n",
    "\n",
    "# Create a quantum circuit\n",
    "qc = QuantumCircuit(q, c)\n",
    "\n",
    "# Apply a Hadamard gate on the first qubit\n",
    "\n",
    "# Apply a CNOT gate with the first qubit as control and the second qubit as target\n",
    "\n",
    "# Measure the qubits\n",
    "\n",
    "# Draw the circuit\n",
    "qc.draw(output='mpl')\n",
    "\n"
   ],
   "outputs": [
    {
     "data": {
      "text/plain": [
       "<Figure size 161.878x284.278 with 1 Axes>"
      ],
      "image/png": "[encoded data removed]"
     },
     "execution_count": 50,
     "metadata": {},
     "output_type": "execute_result"
    }
   ],
   "execution_count": 50
  },
  {
   "cell_type": "markdown",
   "metadata": {},
   "source": [
    "Question: \n",
    "Check the statevector of the circuit to verify that the qubits are in the Bell state."
   ]
  },
  {
   "cell_type": "markdown",
   "metadata": {},
   "source": [
    "Now, let's simulate the circuit and check the statevector to verify that the qubits are in the Bell state."
   ]
  },
  {
   "cell_type": "code",
   "metadata": {
    "ExecuteTime": {
     "end_time": "2025-02-24T20:12:09.484844Z",
     "start_time": "2025-02-24T20:12:09.478222Z"
    }
   },
   "source": [
    "# show the statevector of the circuit\n",
    "qc.remove_final_measurements()  # no measurements allowed\n",
    "statevector = Statevector(qc)\n",
    "\n",
    "# print the statevector\n",
    "print(statevector)\n",
    "\n",
    "# print statevector in a table \n",
    "statevector_table = statevector.probabilities_dict()\n",
    "print(statevector_table)\n"
   ],
   "outputs": [
    {
     "name": "stdout",
     "output_type": "stream",
     "text": [
      "Statevector([1.+0.j, 0.+0.j, 0.+0.j, 0.+0.j],\n",
      "            dims=(2, 2))\n",
      "{np.str_('00'): np.float64(1.0)}\n"
     ]
    }
   ],
   "execution_count": 51
  },
  {
   "cell_type": "markdown",
   "metadata": {},
   "source": [
    "Now, let is visualize the statevector of the circuit to verify that the qubits are in the Bell state. We will make a plot of the real and imaginary parts of the statevector."
   ]
  },
  {
   "cell_type": "code",
   "metadata": {
    "ExecuteTime": {
     "end_time": "2025-02-24T20:12:09.807743Z",
     "start_time": "2025-02-24T20:12:09.529019Z"
    }
   },
   "source": [
    "# check the state vector\n",
    "# print the statevector \n",
    "sv=Statevector([1/np.sqrt(2), 0, 0, -1/np.sqrt(2)])\n",
    "sv.draw(output='hinton')"
   ],
   "outputs": [
    {
     "data": {
      "text/plain": [
       "<Figure size 800x500 with 2 Axes>"
      ],
      "image/png": "[encoded data removed]"
     },
     "execution_count": 52,
     "metadata": {},
     "output_type": "execute_result"
    }
   ],
   "execution_count": 52
  },
  {
   "cell_type": "markdown",
   "metadata": {},
   "source": [
    "Make a plot of the statevector on the Bloch sphere to verify that the qubits are in the Bell state from the plot. "
   ]
  },
  {
   "cell_type": "code",
   "metadata": {
    "ExecuteTime": {
     "end_time": "2025-02-24T20:12:19.389723Z",
     "start_time": "2025-02-24T20:12:19.352089Z"
    }
   },
   "source": [
    "# plot the statevector on the Bloch sphere\n",
    "plot_state_qsphere(statevector.data)"
   ],
   "outputs": [
    {
     "ename": "MissingOptionalLibraryError",
     "evalue": "\"The 'seaborn' library is required to use 'plot_state_qsphere'. You can install it with 'pip install seaborn'.\"",
     "output_type": "error",
     "traceback": [
      "\u001B[0;31m---------------------------------------------------------------------------\u001B[0m",
      "\u001B[0;31mMissingOptionalLibraryError\u001B[0m               Traceback (most recent call last)",
      "Cell \u001B[0;32mIn[54], line 2\u001B[0m\n\u001B[1;32m      1\u001B[0m \u001B[38;5;66;03m# plot the statevector on the Bloch sphere\u001B[39;00m\n\u001B[0;32m----> 2\u001B[0m \u001B[43mplot_state_qsphere\u001B[49m\u001B[43m(\u001B[49m\u001B[43mstatevector\u001B[49m\u001B[38;5;241;43m.\u001B[39;49m\u001B[43mdata\u001B[49m\u001B[43m)\u001B[49m\n",
      "File \u001B[0;32m~/miniconda3/envs/QC/lib/python3.13/site-packages/qiskit/utils/lazy_tester.py:165\u001B[0m, in \u001B[0;36mLazyDependencyManager.require_in_call.<locals>.out\u001B[0;34m(*args, **kwargs)\u001B[0m\n\u001B[1;32m    162\u001B[0m \u001B[38;5;129m@functools\u001B[39m\u001B[38;5;241m.\u001B[39mwraps(function)\n\u001B[1;32m    163\u001B[0m \u001B[38;5;28;01mdef\u001B[39;00m \u001B[38;5;21mout\u001B[39m(\u001B[38;5;241m*\u001B[39margs, \u001B[38;5;241m*\u001B[39m\u001B[38;5;241m*\u001B[39mkwargs):\n\u001B[1;32m    164\u001B[0m     \u001B[38;5;28mself\u001B[39m\u001B[38;5;241m.\u001B[39mrequire_now(feature)\n\u001B[0;32m--> 165\u001B[0m     \u001B[38;5;28;01mreturn\u001B[39;00m \u001B[43mfunction\u001B[49m\u001B[43m(\u001B[49m\u001B[38;5;241;43m*\u001B[39;49m\u001B[43margs\u001B[49m\u001B[43m,\u001B[49m\u001B[43m \u001B[49m\u001B[38;5;241;43m*\u001B[39;49m\u001B[38;5;241;43m*\u001B[39;49m\u001B[43mkwargs\u001B[49m\u001B[43m)\u001B[49m\n",
      "File \u001B[0;32m~/miniconda3/envs/QC/lib/python3.13/site-packages/qiskit/utils/lazy_tester.py:164\u001B[0m, in \u001B[0;36mLazyDependencyManager.require_in_call.<locals>.out\u001B[0;34m(*args, **kwargs)\u001B[0m\n\u001B[1;32m    162\u001B[0m \u001B[38;5;129m@functools\u001B[39m\u001B[38;5;241m.\u001B[39mwraps(function)\n\u001B[1;32m    163\u001B[0m \u001B[38;5;28;01mdef\u001B[39;00m \u001B[38;5;21mout\u001B[39m(\u001B[38;5;241m*\u001B[39margs, \u001B[38;5;241m*\u001B[39m\u001B[38;5;241m*\u001B[39mkwargs):\n\u001B[0;32m--> 164\u001B[0m     \u001B[38;5;28;43mself\u001B[39;49m\u001B[38;5;241;43m.\u001B[39;49m\u001B[43mrequire_now\u001B[49m\u001B[43m(\u001B[49m\u001B[43mfeature\u001B[49m\u001B[43m)\u001B[49m\n\u001B[1;32m    165\u001B[0m     \u001B[38;5;28;01mreturn\u001B[39;00m function(\u001B[38;5;241m*\u001B[39margs, \u001B[38;5;241m*\u001B[39m\u001B[38;5;241m*\u001B[39mkwargs)\n",
      "File \u001B[0;32m~/miniconda3/envs/QC/lib/python3.13/site-packages/qiskit/utils/lazy_tester.py:221\u001B[0m, in \u001B[0;36mLazyDependencyManager.require_now\u001B[0;34m(self, feature)\u001B[0m\n\u001B[1;32m    219\u001B[0m \u001B[38;5;28;01mif\u001B[39;00m \u001B[38;5;28mself\u001B[39m:\n\u001B[1;32m    220\u001B[0m     \u001B[38;5;28;01mreturn\u001B[39;00m\n\u001B[0;32m--> 221\u001B[0m \u001B[38;5;28;01mraise\u001B[39;00m MissingOptionalLibraryError(\n\u001B[1;32m    222\u001B[0m     libname\u001B[38;5;241m=\u001B[39m\u001B[38;5;28mself\u001B[39m\u001B[38;5;241m.\u001B[39m_name, name\u001B[38;5;241m=\u001B[39mfeature, pip_install\u001B[38;5;241m=\u001B[39m\u001B[38;5;28mself\u001B[39m\u001B[38;5;241m.\u001B[39m_install, msg\u001B[38;5;241m=\u001B[39m\u001B[38;5;28mself\u001B[39m\u001B[38;5;241m.\u001B[39m_msg\n\u001B[1;32m    223\u001B[0m )\n",
      "\u001B[0;31mMissingOptionalLibraryError\u001B[0m: \"The 'seaborn' library is required to use 'plot_state_qsphere'. You can install it with 'pip install seaborn'.\""
     ]
    }
   ],
   "execution_count": 54
  },
  {
   "cell_type": "markdown",
   "metadata": {},
   "source": [
    "Let's simulate the circuit and plot the statevector on the Bloch sphere to verify that the qubits are in the Bell state."
   ]
  },
  {
   "cell_type": "code",
   "execution_count": 11,
   "metadata": {},
   "outputs": [
    {
     "name": "stdout",
     "output_type": "stream",
     "text": [
      "{'11 00': 512, '00 00': 512}\n"
     ]
    },
    {
     "data": {
      "image/png": "[encoded data removed]",
      "text/plain": [
       "<Figure size 700x500 with 1 Axes>"
      ]
     },
     "execution_count": 11,
     "metadata": {},
     "output_type": "execute_result"
    }
   ],
   "source": [
    "# create the quantum circuit \n",
    "qc = QuantumCircuit(q, c)\n",
    "# Apply a Hadamard gate on the first qubit\n",
    "qc.h(q[0])\n",
    "# Apply a CNOT gate with the first qubit as control and the second qubit as target\n",
    "qc.cx(q[0], q[1])\n",
    "# measure \n",
    "qc.measure_all()\n",
    "\n",
    "# Simulate the circuit\n",
    "simulator = BasicSimulator()\n",
    "\n",
    "result = simulator.run(qc).result()\n",
    "counts = result.get_counts()\n",
    "print(counts)\n",
    "\n",
    "# Draw the circuit\n",
    "qc.draw(output='mpl')\n",
    "\n",
    "# make a plot of the counts as a histogram\n",
    "plot_histogram(counts)\n",
    "\n"
   ]
  },
  {
   "cell_type": "markdown",
   "metadata": {},
   "source": [
    "#### Task 2\n",
    "Now, change the inputs of the qubits to create the other Bell states and verify that the qubits are in the Bell state."
   ]
  },
  {
   "cell_type": "markdown",
   "metadata": {},
   "source": [
    "First, initialize the qubits to the state $|01>$ and then apply the Hadamard gate to the first qubit and the CNOT gate with the first qubit as control and the second qubit as target.\n",
    "\n",
    "Question: how can we initialize the qubits to the state $|01>$? (discuss with your team and teacher)"
   ]
  },
  {
   "cell_type": "code",
   "execution_count": 12,
   "metadata": {},
   "outputs": [
    {
     "data": {
      "image/png": "[encoded data removed]",
      "text/plain": [
       "<Figure size 580.387x367.889 with 1 Axes>"
      ]
     },
     "execution_count": 12,
     "metadata": {},
     "output_type": "execute_result"
    }
   ],
   "source": [
    "# create a quantum circuit of two qubits\n",
    "\n",
    "# initialize the qubits to the state |01>\n",
    "\n",
    "\n",
    "# Apply a Hadamard gate on the first qubit\n",
    "\n",
    "# Apply a CNOT gate with the first qubit as control and the second qubit as target\n",
    "\n",
    "# measure\n",
    "\n",
    "# Draw the circuit\n",
    "qc.draw(output='mpl')\n"
   ]
  },
  {
   "cell_type": "markdown",
   "metadata": {},
   "source": [
    "Print the statevector of the circuit to verify that the qubits are in the Bell state."
   ]
  },
  {
   "cell_type": "markdown",
   "metadata": {},
   "source": [
    "Make a simulation of the circuit and check the statevector to verify that the qubits are in the Bell state."
   ]
  },
  {
   "cell_type": "code",
   "execution_count": 13,
   "metadata": {},
   "outputs": [],
   "source": [
    "# create a quantum circuit of two qubits\n",
    "\n",
    "# initialize the qubits to the state |01>\n",
    "\n",
    "# Apply a Hadamard gate on the first qubit\n",
    "\n",
    "# Apply a CNOT gate with the first qubit as control and the second qubit as target\n",
    "\n",
    "# measure\n",
    "\n",
    "# Draw the circuit\n",
    "\n",
    "# make a plot of the counts as a histogram\n"
   ]
  },
  {
   "cell_type": "markdown",
   "metadata": {},
   "source": [
    "Let's now write a function that creates the Bell state for any input state of the qubits. The function will take the input state of the qubits as an argument and return the circuit that creates the Bell state. But first, let's make a function that initializes the qubits to a particular state."
   ]
  },
  {
   "cell_type": "code",
   "execution_count": 14,
   "metadata": {},
   "outputs": [],
   "source": [
    "# create bell pair create_bell_pair(qc, q[0], q[1])\n",
    "def qubit2_initialization(qc, q_0, q_1):\n",
    "  \n",
    "  \n",
    "  \n",
    "  \n",
    "            return qc\n"
   ]
  },
  {
   "cell_type": "code",
   "execution_count": 15,
   "metadata": {},
   "outputs": [
    {
     "data": {
      "image/png": "[encoded data removed]",
      "text/plain": [
       "<Figure size 161.878x284.278 with 1 Axes>"
      ]
     },
     "execution_count": 15,
     "metadata": {},
     "output_type": "execute_result"
    }
   ],
   "source": [
    "# test the function \n",
    "qc = QuantumCircuit(q, c)\n",
    "qc = qubit2_initialization(qc, 1, 1)\n",
    "\n",
    "# draw the circuit\n",
    "qc.draw(output='mpl')"
   ]
  },
  {
   "cell_type": "code",
   "execution_count": 16,
   "metadata": {},
   "outputs": [],
   "source": [
    "\n",
    "def create_bell_pair(qc, q_0, q_1):\n",
    "\n",
    "    return qc"
   ]
  },
  {
   "cell_type": "code",
   "execution_count": 17,
   "metadata": {},
   "outputs": [
    {
     "data": {
      "image/png": "[encoded data removed]",
      "text/plain": [
       "<Figure size 161.878x284.278 with 1 Axes>"
      ]
     },
     "execution_count": 17,
     "metadata": {},
     "output_type": "execute_result"
    }
   ],
   "source": [
    "# test the function `create_bell_pair`\n",
    "qc = QuantumCircuit(q, c)\n",
    "qc = qubit2_initialization(qc, 1, 1)\n",
    "qc = create_bell_pair(qc, q[0], q[1])\n",
    "\n",
    "# draw the circuit\n",
    "qc.draw(output='mpl')"
   ]
  },
  {
   "cell_type": "markdown",
   "metadata": {},
   "source": [
    "### Section 2: Quantum teleportation protocol"
   ]
  },
  {
   "cell_type": "markdown",
   "metadata": {},
   "source": [
    "Let's now implement the quantum teleportation protocol. \n",
    "The total number of qubits in the circuit is three. Alice has the first two qubits, and Bob has the third qubit. The first qubit is the state to be teleported, and the second qubit is the entangled qubit shared by Alice and Bob. The third qubit is the qubit that Bob will receive after the teleportation.\n",
    "\n",
    "First we will create the Bell pair of qubits, and then we will implement the protocol."
   ]
  },
  {
   "cell_type": "code",
   "execution_count": 18,
   "metadata": {},
   "outputs": [],
   "source": [
    "# define the function 'create_bell_pair'\n",
    "def create_bell_pair(qc, a, b):\n",
    "    \"\"\"Creates a bell pair in qc using qubits a & b\"\"\"\n",
    "  "
   ]
  },
  {
   "cell_type": "markdown",
   "metadata": {},
   "source": [
    "Let's setup the circuit for the quantum teleportation protocol. We will create the Bell pair of qubits and then implement the protocol.\n",
    "\n",
    "Create a circuit with three qubits and two classical bits. Call the two classical bits `crz` and `crx`. The first qubit is the state to be teleported, the second qubit is the entangled qubit shared by Alice and Bob, and the third qubit is the qubit that Bob will receive after the teleportation."
   ]
  },
  {
   "cell_type": "code",
   "execution_count": 20,
   "metadata": {},
   "outputs": [],
   "source": [
    "#### Setup \n",
    "# create a quantum circuit of three qubits\n",
    "qr = QuantumRegister(3, name=\"q\")\n",
    "# and two classical bits. We will call them crz and crx\n",
    "crz, crx = ClassicalRegister(1, name=\"crz\"), ClassicalRegister(1, name=\"crx\")\n",
    "# create the quantum circuit\n",
    "teleportation_circuit = QuantumCircuit(qr, crz, crx)"
   ]
  },
  {
   "cell_type": "markdown",
   "metadata": {},
   "source": [
    "Let's now perform the first step of the protocol by creating the Bell pair of qubits."
   ]
  },
  {
   "cell_type": "markdown",
   "metadata": {},
   "source": [
    "Step 1: Create the Bell pair of qubits."
   ]
  },
  {
   "cell_type": "code",
   "execution_count": 21,
   "metadata": {},
   "outputs": [
    {
     "data": {
      "image/png": "[encoded data removed]",
      "text/plain": [
       "<Figure size 170.291x451.5 with 1 Axes>"
      ]
     },
     "execution_count": 21,
     "metadata": {},
     "output_type": "execute_result"
    }
   ],
   "source": [
    "#### Setup \n",
    "# create a quantum circuit of three qubits\n",
    "\n",
    "# and two classical bits. We will call them crz and crx\n",
    "crz, crx = ClassicalRegister(1, name=\"crz\"), ClassicalRegister(1, name=\"crx\")\n",
    "\n",
    "# create the quantum circuit\n",
    "teleportation_circuit = QuantumCircuit(qr, crz, crx)\n",
    "\n",
    "create_bell_pair(teleportation_circuit, 1, 2)\n",
    "# Draw the circuit\n",
    "teleportation_circuit.draw(output='mpl')\n"
   ]
  },
  {
   "cell_type": "markdown",
   "metadata": {},
   "source": [
    "Step 2: Apply the quantum teleportation protocol.\n",
    "\n",
    "\n",
    "Alice applies a CNOT gate to $q_1$, controlled by $\\vert\\psi\\rangle$ (the qubit she is trying to send Bob). Then Alice applies a Hadamard gate to $|\\psi\\rangle$. In our quantum circuit, the qubit ($|\\psi\\rangle$) Alice is trying to send is $q_0$. Develop a function 'alice_gates' that applies the CNOT gate, with the first qubit as the control qubit and the second as the target qubit, and the Hadamard gate to the qubit $q_0$."
   ]
  },
  {
   "cell_type": "code",
   "execution_count": 22,
   "metadata": {},
   "outputs": [],
   "source": [
    "def alice_gates(qc, psi, a):\n",
    "    qc.cx(psi, a)\n",
    "    qc.h(psi)"
   ]
  },
  {
   "cell_type": "markdown",
   "metadata": {},
   "source": [
    "Copy, the same code to create the Bell pair of qubits and call the function 'alice_gates' to apply the gates to the qubit $q_0$."
   ]
  },
  {
   "cell_type": "code",
   "execution_count": 23,
   "metadata": {},
   "outputs": [
    {
     "data": {
      "image/png": "[encoded data removed]",
      "text/plain": [
       "<Figure size 379.319x451.5 with 1 Axes>"
      ]
     },
     "execution_count": 23,
     "metadata": {},
     "output_type": "execute_result"
    }
   ],
   "source": [
    "## SETUP\n",
    "# Protocol uses 3 qubits and 2 classical bits in 2 different registers\n",
    "qr = QuantumRegister(3, name=\"q\")\n",
    "crz, crx = ClassicalRegister(1, name=\"crz\"), ClassicalRegister(1, name=\"crx\")\n",
    "teleportation_circuit = QuantumCircuit(qr, crz, crx)\n",
    "\n",
    "## STEP 1\n",
    "create_bell_pair(teleportation_circuit, 1, 2)\n",
    "\n",
    "## STEP 2\n",
    "teleportation_circuit.barrier() # Use barrier to separate steps\n",
    "alice_gates(teleportation_circuit, 0, 1)\n",
    "teleportation_circuit.draw(output='mpl')"
   ]
  },
  {
   "cell_type": "code",
   "execution_count": null,
   "metadata": {},
   "outputs": [],
   "source": [
    "def measure_and_send(qc, a, b):\n",
    "    \"\"\"Measures qubits a & b and 'sends' the results to Bob\"\"\"\n"
   ]
  },
  {
   "cell_type": "markdown",
   "metadata": {},
   "source": [
    "Repeat the same steps to create the Bell pair of qubits and apply the gates to the qubit $q_1$. Also, apply the function "
   ]
  },
  {
   "cell_type": "code",
   "execution_count": 24,
   "metadata": {},
   "outputs": [
    {
     "ename": "NameError",
     "evalue": "name 'measure_and_send' is not defined",
     "output_type": "error",
     "traceback": [
      "\u001B[0;31m---------------------------------------------------------------------------\u001B[0m",
      "\u001B[0;31mNameError\u001B[0m                                 Traceback (most recent call last)",
      "Cell \u001B[0;32mIn[24], line 15\u001B[0m\n\u001B[1;32m     12\u001B[0m alice_gates(teleportation_circuit, \u001B[38;5;241m0\u001B[39m, \u001B[38;5;241m1\u001B[39m)\n\u001B[1;32m     14\u001B[0m \u001B[38;5;66;03m## STEP 3\u001B[39;00m\n\u001B[0;32m---> 15\u001B[0m \u001B[43mmeasure_and_send\u001B[49m(teleportation_circuit, \u001B[38;5;241m0\u001B[39m ,\u001B[38;5;241m1\u001B[39m)\n\u001B[1;32m     16\u001B[0m teleportation_circuit\u001B[38;5;241m.\u001B[39mdraw(output\u001B[38;5;241m=\u001B[39m\u001B[38;5;124m'\u001B[39m\u001B[38;5;124mmpl\u001B[39m\u001B[38;5;124m'\u001B[39m)\n",
      "\u001B[0;31mNameError\u001B[0m: name 'measure_and_send' is not defined"
     ]
    }
   ],
   "source": [
    "## SETUP\n",
    "# Protocol uses 3 qubits and 2 classical bits in 2 different registers\n",
    "qr = QuantumRegister(3, name=\"q\")\n",
    "crz, crx = ClassicalRegister(1, name=\"crz\"), ClassicalRegister(1, name=\"crx\")\n",
    "teleportation_circuit = QuantumCircuit(qr, crz, crx)\n",
    "\n",
    "## STEP 1\n",
    "create_bell_pair(teleportation_circuit, 1, 2)\n",
    "\n",
    "## STEP 2\n",
    "teleportation_circuit.barrier() # Use barrier to separate steps\n",
    "alice_gates(teleportation_circuit, 0, 1)\n",
    "\n",
    "## STEP 3\n",
    "measure_and_send(teleportation_circuit, 0 ,1)\n",
    "teleportation_circuit.draw(output='mpl')"
   ]
  },
  {
   "cell_type": "markdown",
   "metadata": {},
   "source": [
    "Step 4: Based on the measurement results, Bob applies some gates to his qubit. Develop a function 'bob_gates' that applies the gates to the qubit $q_2$ based on the measurement results. The post processing is as follows:\n",
    "\n",
    "Depending on the value of `crz` and `crx`, Bob applies the following gates:\n",
    "\n",
    "00 $\\rightarrow$ Do nothing\n",
    "\n",
    "01 $\\rightarrow$ Apply $X$ gate\n",
    "\n",
    "10 $\\rightarrow$ Apply $Z$ gate\n",
    "\n",
    "11 $\\rightarrow$ Apply $ZX$ gate\n",
    "\n",
    "(*Note that this transfer of information is purely classical*.)"
   ]
  },
  {
   "cell_type": "code",
   "execution_count": null,
   "metadata": {},
   "outputs": [],
   "source": [
    "# This function takes a QuantumCircuit (qc), integer (qubit)\n",
    "# and ClassicalRegisters (crz & crx) to decide which gates to apply\n",
    "def bob_gates(qc, qubit, crz, crx):\n",
    "    # Here we use c_if to control our gates with a classical\n",
    "    # bit instead of a qubit\n",
    "    qc.x(qubit).c_if(crx, 1) # Apply gates if the registers \n",
    "    qc.z(qubit).c_if(crz, 1) # are in the state '1'"
   ]
  },
  {
   "cell_type": "code",
   "execution_count": null,
   "metadata": {},
   "outputs": [],
   "source": [
    "# another implementation of the function\n",
    "def bob_gates2(qc, qubit, crz, crx):\n",
    "    # In this implementation, we use if statements \n",
    "    if crx == 1:\n",
    "        qc.x(qubit)\n",
    "    if crz == 1:\n",
    "        qc.z(qubit)\n"
   ]
  },
  {
   "cell_type": "code",
   "execution_count": null,
   "metadata": {},
   "outputs": [],
   "source": [
    "## SETUP\n",
    "# Protocol uses 3 qubits and 2 classical bits in 2 different registers\n",
    "qr = QuantumRegister(3, name=\"q\")\n",
    "crz, crx = ClassicalRegister(1, name=\"crz\"), ClassicalRegister(1, name=\"crx\")\n",
    "teleportation_circuit = QuantumCircuit(qr, crz, crx)\n",
    "\n",
    "## STEP 1\n",
    "create_bell_pair(teleportation_circuit, 1, 2)\n",
    "\n",
    "## STEP 2\n",
    "teleportation_circuit.barrier() # Use barrier to separate steps\n",
    "alice_gates(teleportation_circuit, 0, 1)\n",
    "\n",
    "## STEP 3\n",
    "measure_and_send(teleportation_circuit, 0, 1)\n",
    "\n",
    "## STEP 4\n",
    "teleportation_circuit.barrier() # Use barrier to separate steps\n",
    "bob_gates(teleportation_circuit, 2, crz, crx)\n",
    "teleportation_circuit.draw(output='mpl')"
   ]
  },
  {
   "cell_type": "markdown",
   "metadata": {},
   "source": [
    "At the end, \n",
    "\n",
    "Eh voila! The quantum teleportation protocol is complete. The state of the qubit $q_0$ has been teleported to the qubit $q_2$. Alice has successfully teleported the state of the qubit $q_0$ to Bob's qubit $q_2$."
   ]
  },
  {
   "cell_type": "markdown",
   "metadata": {},
   "source": [
    "Let's now simulate the circuit and check the statevector to verify that the qubit $q_2$ is in the state $|\\psi\\rangle$.\n",
    "\n",
    "First, let's initialize the qubit $q_0$ to a random state. Then, we will create the Bell pair of qubits and apply the quantum teleportation protocol. Finally, we will simulate the circuit and check the statevector to verify that the qubit $q_2$ is in the state $|\\psi\\rangle$."
   ]
  },
  {
   "cell_type": "markdown",
   "metadata": {},
   "source": [
    "In the following cell, this is how we create a random state for the qubit $q_0$.\n",
    "\n",
    "```python\n",
    "from qiskit import quantum_info\n",
    "\n",
    "num_qubits = 1 # number of qubit for this random statevector\n",
    "dims = 2**num_qubits # calculate statevector dimension based on the number of qubits\n",
    "\n",
    "random_state = quantum_info.random_statevector(dims = dims, seed = None) # One can also specify the random seed for this random statevector\n",
    "\n",
    "# print the random statevector\n",
    "print(random_state)\n",
    "```"
   ]
  },
  {
   "cell_type": "code",
   "execution_count": null,
   "metadata": {},
   "outputs": [],
   "source": [
    "from qiskit import quantum_info\n",
    "\n",
    "num_qubits = 1 # number of qubit for this random statevector\n",
    "dims = 2**num_qubits # calculate statevector dimension based on the number of qubits\n",
    "\n",
    "random_state = quantum_info.random_statevector(dims = dims, seed = None) # One can also specify the random seed for this random statevector\n",
    "\n",
    "# print the random statevector\n",
    "#print(random_state)\n",
    "\n",
    "psi = random_state.data\n",
    "\n",
    "# initialize q_1 in |0>\n",
    "psi_1 = np.array([1, 0])\n",
    "\n",
    "# initialize q_2 in |0>\n",
    "psi_2 = np.array([1, 0])\n",
    "\n",
    "\n",
    "# print psi\n",
    "print(psi)"
   ]
  },
  {
   "cell_type": "markdown",
   "metadata": {},
   "source": [
    "Let's display it in the following cell using the bloch sphere."
   ]
  },
  {
   "cell_type": "code",
   "execution_count": null,
   "metadata": {},
   "outputs": [],
   "source": [
    "from qiskit.visualization import plot_histogram, plot_bloch_multivector, array_to_latex\n",
    "\n",
    "# Display it nicely\n",
    "display(array_to_latex(psi, prefix=\"|\\\\psi\\\\rangle =\"))\n",
    "# Show it on a Bloch sphere\n",
    "plot_bloch_multivector(psi)"
   ]
  },
  {
   "cell_type": "markdown",
   "metadata": {},
   "source": [
    "Setup the quantum teleportation protocol circuit and simulate the circuit to verify that the qubit $q_2$ is in the state $|\\psi\\rangle$."
   ]
  },
  {
   "cell_type": "code",
   "execution_count": null,
   "metadata": {},
   "outputs": [],
   "source": [
    "## SETUP\n",
    "#####################################################################\n",
    "## Create a quantum circuit with 3 qubits and 2 classical bits\n",
    "\n",
    "# Step 0: Create the random state to be teleported\n",
    "# Initialize Alice's q0 to |psi>\n",
    "\n",
    "\n",
    "## STEP 1\n",
    "# Now begins the teleportation protocol, first we create a Bell pair\n",
    "# between Alice's and Bob's qubits q1 and q2\n",
    "\n",
    "\n",
    "## STEP 2\n",
    "# Send q1 to Alice and q2 to Bob\n",
    "\n",
    "## STEP 3\n",
    "# Alice then sends her classical bits to Bob\n",
    "\n",
    "\n",
    "## STEP 4\n",
    "# Bob decodes qubits\n",
    "\n",
    "# Draw the circuit\n",
    "qc.draw(output='mpl')\n"
   ]
  },
  {
   "cell_type": "code",
   "execution_count": null,
   "metadata": {},
   "outputs": [],
   "source": [
    "## SETUP the teleportation circuit for simulation\n",
    "#####################################################################\n",
    "## Create a quantum circuit with 3 qubits and 2 classical bits\n",
    "\n",
    "# Step 0: Create the random state to be teleported\n",
    "# Initialize Alice's q0 to |psi>\n",
    "\n",
    "\n",
    "print(\"Initial state vector:\")\n",
    "\n",
    "# Plot the initial state in the Bloch sphere\n",
    "display(statevector_initial.draw('bloch'))\n",
    "\n",
    "## STEP 1\n",
    "# Now begins the teleportation protocol, first we create a Bell pair\n",
    "# between Alice's and Bob's qubits q1 and q2\n",
    "\n",
    "\n",
    "## STEP 2\n",
    "# apply the gates to Alice's qubits\n",
    "\n",
    "\n",
    "## STEP 3+4\n",
    "# hence, the steps 3 and 4 are combined\n",
    "# Now, we will automate the measurement and the conditional gate application\n",
    "qc.cz(0, 2)\n",
    "qc.cx(1, 2)\n",
    "qc.barrier()\n",
    "\n",
    "# obtain the statevector \n",
    "statevector_final = Statevector(qc)\n",
    "\n",
    "print(\"Final state vector:\")\n",
    "\n",
    "# Plot the initial state in the Bloch sphere\n",
    "display(statevector_final.draw('bloch'))\n"
   ]
  }
 ],
 "metadata": {
  "kernelspec": {
   "display_name": "qiskit1p0",
   "language": "python",
   "name": "python3"
  },
  "language_info": {
   "codemirror_mode": {
    "name": "ipython",
    "version": 3
   },
   "file_extension": ".py",
   "mimetype": "text/x-python",
   "name": "python",
   "nbconvert_exporter": "python",
   "pygments_lexer": "ipython3",
   "version": "3.9.12"
  }
 },
 "nbformat": 4,
 "nbformat_minor": 2
}
